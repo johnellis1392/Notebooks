{
 "cells": [
  {
   "cell_type": "markdown",
   "metadata": {
    "colab_type": "text",
    "id": "kR-4eNdK6lYS"
   },
   "source": [
    "Deep Learning\n",
    "=============\n",
    "\n",
    "Assignment 3\n",
    "------------\n",
    "\n",
    "Previously in `2_fullyconnected.ipynb`, you trained a logistic regression and a neural network model.\n",
    "\n",
    "The goal of this assignment is to explore regularization techniques."
   ]
  },
  {
   "cell_type": "code",
   "execution_count": 1,
   "metadata": {
    "cellView": "both",
    "colab": {
     "autoexec": {
      "startup": false,
      "wait_interval": 0
     }
    },
    "colab_type": "code",
    "collapsed": true,
    "id": "JLpLa8Jt7Vu4"
   },
   "outputs": [],
   "source": [
    "# These are all the modules we'll be using later. Make sure you can import them\n",
    "# before proceeding further.\n",
    "from __future__ import print_function\n",
    "import numpy as np\n",
    "import tensorflow as tf\n",
    "from six.moves import cPickle as pickle"
   ]
  },
  {
   "cell_type": "markdown",
   "metadata": {
    "colab_type": "text",
    "id": "1HrCK6e17WzV"
   },
   "source": [
    "First reload the data we generated in _notmist.ipynb_."
   ]
  },
  {
   "cell_type": "code",
   "execution_count": 2,
   "metadata": {
    "cellView": "both",
    "colab": {
     "autoexec": {
      "startup": false,
      "wait_interval": 0
     },
     "output_extras": [
      {
       "item_id": 1
      }
     ]
    },
    "colab_type": "code",
    "collapsed": false,
    "executionInfo": {
     "elapsed": 11777,
     "status": "ok",
     "timestamp": 1449849322348,
     "user": {
      "color": "",
      "displayName": "",
      "isAnonymous": false,
      "isMe": true,
      "permissionId": "",
      "photoUrl": "",
      "sessionId": "0",
      "userId": ""
     },
     "user_tz": 480
    },
    "id": "y3-cj1bpmuxc",
    "outputId": "e03576f1-ebbe-4838-c388-f1777bcc9873"
   },
   "outputs": [
    {
     "name": "stdout",
     "output_type": "stream",
     "text": [
      "Training set (200000, 28, 28) (200000,)\n",
      "Validation set (10000, 28, 28) (10000,)\n",
      "Test set (10000, 28, 28) (10000,)\n"
     ]
    }
   ],
   "source": [
    "pickle_file = 'notMNIST.pickle'\n",
    "\n",
    "with open(pickle_file, 'rb') as f:\n",
    "  save = pickle.load(f)\n",
    "  train_dataset = save['train_dataset']\n",
    "  train_labels = save['train_labels']\n",
    "  valid_dataset = save['valid_dataset']\n",
    "  valid_labels = save['valid_labels']\n",
    "  test_dataset = save['test_dataset']\n",
    "  test_labels = save['test_labels']\n",
    "  del save  # hint to help gc free up memory\n",
    "  print('Training set', train_dataset.shape, train_labels.shape)\n",
    "  print('Validation set', valid_dataset.shape, valid_labels.shape)\n",
    "  print('Test set', test_dataset.shape, test_labels.shape)"
   ]
  },
  {
   "cell_type": "markdown",
   "metadata": {
    "colab_type": "text",
    "id": "L7aHrm6nGDMB"
   },
   "source": [
    "Reformat into a shape that's more adapted to the models we're going to train:\n",
    "- data as a flat matrix,\n",
    "- labels as float 1-hot encodings."
   ]
  },
  {
   "cell_type": "code",
   "execution_count": 3,
   "metadata": {
    "cellView": "both",
    "colab": {
     "autoexec": {
      "startup": false,
      "wait_interval": 0
     },
     "output_extras": [
      {
       "item_id": 1
      }
     ]
    },
    "colab_type": "code",
    "collapsed": false,
    "executionInfo": {
     "elapsed": 11728,
     "status": "ok",
     "timestamp": 1449849322356,
     "user": {
      "color": "",
      "displayName": "",
      "isAnonymous": false,
      "isMe": true,
      "permissionId": "",
      "photoUrl": "",
      "sessionId": "0",
      "userId": ""
     },
     "user_tz": 480
    },
    "id": "IRSyYiIIGIzS",
    "outputId": "3f8996ee-3574-4f44-c953-5c8a04636582"
   },
   "outputs": [
    {
     "name": "stdout",
     "output_type": "stream",
     "text": [
      "Training set (200000, 784) (200000, 10)\n",
      "Validation set (10000, 784) (10000, 10)\n",
      "Test set (10000, 784) (10000, 10)\n"
     ]
    }
   ],
   "source": [
    "image_size = 28\n",
    "num_labels = 10\n",
    "\n",
    "def reformat(dataset, labels):\n",
    "  dataset = dataset.reshape((-1, image_size * image_size)).astype(np.float32)\n",
    "  # Map 2 to [0.0, 1.0, 0.0 ...], 3 to [0.0, 0.0, 1.0 ...]\n",
    "  labels = (np.arange(num_labels) == labels[:,None]).astype(np.float32)\n",
    "  return dataset, labels\n",
    "train_dataset, train_labels = reformat(train_dataset, train_labels)\n",
    "valid_dataset, valid_labels = reformat(valid_dataset, valid_labels)\n",
    "test_dataset, test_labels = reformat(test_dataset, test_labels)\n",
    "print('Training set', train_dataset.shape, train_labels.shape)\n",
    "print('Validation set', valid_dataset.shape, valid_labels.shape)\n",
    "print('Test set', test_dataset.shape, test_labels.shape)"
   ]
  },
  {
   "cell_type": "code",
   "execution_count": 4,
   "metadata": {
    "cellView": "both",
    "colab": {
     "autoexec": {
      "startup": false,
      "wait_interval": 0
     }
    },
    "colab_type": "code",
    "collapsed": true,
    "id": "RajPLaL_ZW6w"
   },
   "outputs": [],
   "source": [
    "def accuracy(predictions, labels):\n",
    "  return (100.0 * np.sum(np.argmax(predictions, 1) == np.argmax(labels, 1))\n",
    "          / predictions.shape[0])"
   ]
  },
  {
   "cell_type": "markdown",
   "metadata": {
    "colab_type": "text",
    "id": "sgLbUAQ1CW-1"
   },
   "source": [
    "---\n",
    "Problem 1\n",
    "---------\n",
    "\n",
    "Introduce and tune L2 regularization for both logistic and neural network models. Remember that L2 amounts to adding a penalty on the norm of the weights to the loss. In TensorFlow, you can compute the L2 loss for a tensor `t` using `nn.l2_loss(t)`. The right amount of regularization should improve your validation / test accuracy.\n",
    "\n",
    "---"
   ]
  },
  {
   "cell_type": "code",
   "execution_count": 23,
   "metadata": {
    "collapsed": false
   },
   "outputs": [
    {
     "name": "stdout",
     "output_type": "stream",
     "text": [
      "Computes the mean of elements across dimensions of a tensor.\n",
      "\n",
      "  Reduces `input_tensor` along the dimensions given in `reduction_indices`.\n",
      "  Unless `keep_dims` is true, the rank of the tensor is reduced by 1 for each\n",
      "  entry in `reduction_indices`. If `keep_dims` is true, the reduced dimensions\n",
      "  are retained with length 1.\n",
      "\n",
      "  If `reduction_indices` has no entries, all dimensions are reduced, and a\n",
      "  tensor with a single element is returned.\n",
      "\n",
      "  For example:\n",
      "\n",
      "  ```python\n",
      "  # 'x' is [[1., 1.]\n",
      "  #         [2., 2.]]\n",
      "  tf.reduce_mean(x) ==> 1.5\n",
      "  tf.reduce_mean(x, 0) ==> [1.5, 1.5]\n",
      "  tf.reduce_mean(x, 1) ==> [1.,  2.]\n",
      "  ```\n",
      "\n",
      "  Args:\n",
      "    input_tensor: The tensor to reduce. Should have numeric type.\n",
      "    reduction_indices: The dimensions to reduce. If `None` (the default),\n",
      "      reduces all dimensions.\n",
      "    keep_dims: If true, retains reduced dimensions with length 1.\n",
      "    name: A name for the operation (optional).\n",
      "\n",
      "  Returns:\n",
      "    The reduced tensor.\n",
      "  \n"
     ]
    }
   ],
   "source": [
    "print(tf.reduce_mean.__doc__)"
   ]
  },
  {
   "cell_type": "code",
   "execution_count": 37,
   "metadata": {
    "collapsed": false
   },
   "outputs": [
    {
     "name": "stdout",
     "output_type": "stream",
     "text": [
      "Initializing graph...\n",
      "Graph has been constructed.\n"
     ]
    }
   ],
   "source": [
    "learning_rate = 0.5 \n",
    "hidden_layer_size = 1024 \n",
    "batch_size = 128 \n",
    "l2_loss_param = 5e-4\n",
    "\n",
    "def construct_network(layers, dataset):\n",
    "    result = dataset\n",
    "    for (W, b) in layers[:-1]:\n",
    "        result = tf.nn.relu(tf.matmul(result, W) + b) \n",
    "    (W, b) = layers[-1]\n",
    "    result = tf.matmul(result, W) + b \n",
    "    return result \n",
    "\n",
    "graph = tf.Graph() \n",
    "with graph.as_default():\n",
    "    print('Initializing graph...')\n",
    "    \n",
    "    tf_train_dataset = tf.placeholder(tf.float32,\n",
    "                                     shape=(batch_size, image_size * image_size))\n",
    "    tf_train_labels  = tf.placeholder(tf.float32,\n",
    "                                     shape=(batch_size, num_labels))\n",
    "    tf_valid_dataset = tf.constant(valid_dataset)\n",
    "    tf_test_dataset  = tf.constant(test_dataset)\n",
    "    \n",
    "    W1 = tf.Variable(tf.truncated_normal([image_size * image_size, hidden_layer_size])) \n",
    "    b1 = tf.Variable(tf.zeros([hidden_layer_size])) \n",
    "    \n",
    "    W2 = tf.Variable(tf.truncated_normal([hidden_layer_size, num_labels])) \n",
    "    b2 = tf.Variable(tf.zeros([num_labels])) \n",
    "    \n",
    "    layers = [\n",
    "        (W1, b1),\n",
    "        (W2, b2)\n",
    "    ]\n",
    "    \n",
    "    logits = construct_network(layers, tf_train_dataset)\n",
    "#     loss = tf.reduce_mean(\n",
    "#         tf.nn.softmax_cross_entropy_with_logits(logits, tf_train_labels))\n",
    "#     loss = tf.nn.l2_loss(\n",
    "#         tf.nn.softmax_cross_entropy_with_logits(logits, tf_train_labels))\n",
    "    loss = tf.reduce_mean(\n",
    "        tf.nn.softmax_cross_entropy_with_logits(logits, tf_train_labels)) \n",
    "    \n",
    "    l2 = loss + l2_loss_param * (\n",
    "        tf.nn.l2_loss(W2) + tf.nn.l2_loss(b2) + \n",
    "        tf.nn.l2_loss(W1) + tf.nn.l2_loss(b1))\n",
    "#     l2 = loss + tf.nn.l2_loss(logits)\n",
    "    \n",
    "    optimizer = tf.train.GradientDescentOptimizer(learning_rate).minimize(l2)\n",
    "    train_prediction = tf.nn.softmax(logits)\n",
    "    valid_prediction = tf.nn.softmax(construct_network(layers, tf_valid_dataset))\n",
    "    test_prediction  = tf.nn.softmax(construct_network(layers, tf_test_dataset))\n",
    "    \n",
    "    print('Graph has been constructed.')"
   ]
  },
  {
   "cell_type": "code",
   "execution_count": 38,
   "metadata": {
    "collapsed": false
   },
   "outputs": [
    {
     "name": "stdout",
     "output_type": "stream",
     "text": [
      "Running Session...\n",
      "Minibatch loss at step 0: 475.666565\n",
      "Minibatch accuracy: 13.3%\n",
      "Validation accuracy: 25.2%\n",
      "Minibatch loss at step 500: 136.505508\n",
      "Minibatch accuracy: 77.3%\n",
      "Validation accuracy: 80.9%\n",
      "Minibatch loss at step 1000: 97.512383\n",
      "Minibatch accuracy: 83.6%\n",
      "Validation accuracy: 79.8%\n",
      "Minibatch loss at step 1500: 77.550247\n",
      "Minibatch accuracy: 80.5%\n",
      "Validation accuracy: 79.6%\n",
      "Minibatch loss at step 2000: 56.881653\n",
      "Minibatch accuracy: 89.1%\n",
      "Validation accuracy: 83.1%\n",
      "Minibatch loss at step 2500: 44.061432\n",
      "Minibatch accuracy: 82.8%\n",
      "Validation accuracy: 83.6%\n",
      "Minibatch loss at step 3000: 34.282406\n",
      "Minibatch accuracy: 89.1%\n",
      "Validation accuracy: 85.0%\n",
      "Test accuracy: 90.7%\n",
      "Done.\n"
     ]
    }
   ],
   "source": [
    "num_steps = 3001 \n",
    "with tf.Session(graph=graph) as session:\n",
    "    print('Running Session...')\n",
    "    tf.initialize_all_variables().run() \n",
    "    \n",
    "    for i in range(num_steps):\n",
    "        offset = (i * batch_size) % (train_labels.shape[0] - batch_size)\n",
    "        \n",
    "        batch_data   = train_dataset[offset:(offset + batch_size), :]\n",
    "        batch_labels =  train_labels[offset:(offset + batch_size), :] \n",
    "        \n",
    "        feed_dict = {\n",
    "            tf_train_dataset: batch_data,\n",
    "            tf_train_labels : batch_labels\n",
    "        }\n",
    "        \n",
    "        _, l, predictions = session.run(\n",
    "            [optimizer, l2, train_prediction],\n",
    "            feed_dict=feed_dict\n",
    "        )\n",
    "        \n",
    "        if (i % 500 == 0):\n",
    "            print('Minibatch loss at step %d: %f' % (i, l))\n",
    "            print('Minibatch accuracy: %.1f%%' % accuracy(predictions, batch_labels))\n",
    "            print('Validation accuracy: %.1f%%' % accuracy(\n",
    "                valid_prediction.eval(), valid_labels))\n",
    "            \n",
    "    print('Test accuracy: %.1f%%' % accuracy(test_prediction.eval(), test_labels))\n",
    "    print('Done.')"
   ]
  },
  {
   "cell_type": "markdown",
   "metadata": {
    "colab_type": "text",
    "id": "na8xX2yHZzNF"
   },
   "source": [
    "---\n",
    "Problem 2\n",
    "---------\n",
    "Let's demonstrate an extreme case of overfitting. Restrict your training data to just a few batches. What happens?\n",
    "\n",
    "---"
   ]
  },
  {
   "cell_type": "code",
   "execution_count": 42,
   "metadata": {
    "collapsed": false
   },
   "outputs": [
    {
     "name": "stdout",
     "output_type": "stream",
     "text": [
      "Starting training...\n",
      "Minibatch loss at step 0: 535.725525\n",
      "Minibatch accuracy: 13.3%\n",
      "Validation accuracy: 35.5%\n",
      "Minibatch loss at step 1: 1335.718506\n",
      "Minibatch accuracy: 38.3%\n",
      "Validation accuracy: 27.1%\n",
      "Minibatch loss at step 2: 1616.163940\n",
      "Minibatch accuracy: 25.0%\n",
      "Validation accuracy: 42.7%\n",
      "Minibatch loss at step 3: 821.125732\n",
      "Minibatch accuracy: 43.0%\n",
      "Validation accuracy: 43.5%\n",
      "Minibatch loss at step 4: 1148.818604\n",
      "Minibatch accuracy: 38.3%\n",
      "Validation accuracy: 56.0%\n",
      "Minibatch loss at step 5: 592.169006\n",
      "Minibatch accuracy: 46.9%\n",
      "Validation accuracy: 58.2%\n",
      "Minibatch loss at step 6: 489.319641\n",
      "Minibatch accuracy: 54.7%\n",
      "Validation accuracy: 68.0%\n",
      "Minibatch loss at step 7: 330.089294\n",
      "Minibatch accuracy: 66.4%\n",
      "Validation accuracy: 70.1%\n",
      "Minibatch loss at step 8: 311.330048\n",
      "Minibatch accuracy: 62.5%\n",
      "Validation accuracy: 69.1%\n",
      "Minibatch loss at step 9: 380.531158\n",
      "Minibatch accuracy: 62.5%\n",
      "Validation accuracy: 77.0%\n",
      "Test accuracy: 83.5%\n",
      "Done.\n"
     ]
    }
   ],
   "source": [
    "# num_steps = 100 \n",
    "num_steps = 10 \n",
    "batch_size = 128 \n",
    "\n",
    "with tf.Session(graph=graph) as session:\n",
    "    print('Starting training...')\n",
    "    tf.initialize_all_variables().run() \n",
    "    \n",
    "    for i in range(num_steps):\n",
    "        offset = (i * batch_size) % (train_labels.shape[0] - batch_size)\n",
    "        \n",
    "        batch_data   = train_dataset[offset:(offset + batch_size), :]\n",
    "        batch_labels =  train_labels[offset:(offset + batch_size), :] \n",
    "        \n",
    "        feed_dict = {\n",
    "            tf_train_dataset: batch_data,\n",
    "            tf_train_labels : batch_labels\n",
    "        }\n",
    "        \n",
    "        _, l, predictions = session.run(\n",
    "            [optimizer, l2, train_prediction],\n",
    "            feed_dict=feed_dict\n",
    "        )\n",
    "        \n",
    "#         if (i % 10 == 0):\n",
    "        print('Minibatch loss at step %d: %f' % (i, l))\n",
    "        print('Minibatch accuracy: %.1f%%' % accuracy(predictions, batch_labels))\n",
    "        print('Validation accuracy: %.1f%%' % accuracy(\n",
    "            valid_prediction.eval(), valid_labels))\n",
    "            \n",
    "    print('Test accuracy: %.1f%%' % accuracy(test_prediction.eval(), test_labels))\n",
    "    print('Done.')"
   ]
  },
  {
   "cell_type": "markdown",
   "metadata": {
    "colab_type": "text",
    "id": "ww3SCBUdlkRc"
   },
   "source": [
    "---\n",
    "Problem 3\n",
    "---------\n",
    "Introduce Dropout on the hidden layer of the neural network. Remember: Dropout should only be introduced during training, not evaluation, otherwise your evaluation results would be stochastic as well. TensorFlow provides `nn.dropout()` for that, but you have to make sure it's only inserted during training.\n",
    "\n",
    "What happens to our extreme overfitting case?\n",
    "\n",
    "---"
   ]
  },
  {
   "cell_type": "code",
   "execution_count": 52,
   "metadata": {
    "collapsed": false
   },
   "outputs": [
    {
     "name": "stdout",
     "output_type": "stream",
     "text": [
      "Constructing Graph...\n",
      "Done.\n"
     ]
    }
   ],
   "source": [
    "learning_rate = 0.5 \n",
    "# l2_loss_param = 5e-5 \n",
    "l2_loss_param = 5e-4 \n",
    "hidden_layer_size = 1024 \n",
    "\n",
    "keep_prob = 0.5 \n",
    "seed = 19584901239 \n",
    "\n",
    "graph = tf.Graph() \n",
    "with graph.as_default():\n",
    "    print('Constructing Graph...')\n",
    "    \n",
    "    tf_train_dataset = tf.placeholder(tf.float32, \n",
    "                                      shape=(batch_size, image_size * image_size))\n",
    "    tf_train_labels  = tf.placeholder(tf.float32,\n",
    "                                      shape=(batch_size, num_labels))\n",
    "    tf_valid_dataset = tf.constant(valid_dataset) \n",
    "    tf_test_dataset  = tf.constant(test_dataset) \n",
    "    \n",
    "    #####################\n",
    "    # Initialize weight tensors \n",
    "    W1 = tf.Variable(tf.truncated_normal([image_size * image_size, hidden_layer_size]))\n",
    "    b1 = tf.Variable(tf.zeros([hidden_layer_size]))\n",
    "    \n",
    "    W2 = tf.Variable(tf.truncated_normal([hidden_layer_size, num_labels]))\n",
    "    b2 = tf.Variable(tf.zeros([num_labels]))\n",
    "    \n",
    "    #####################\n",
    "    # Create a new instance of the model \n",
    "    def model(dataset, training=False):\n",
    "        h1 = tf.nn.relu(tf.matmul(dataset, W1) + b1)\n",
    "        \n",
    "        if training:\n",
    "            h1 = tf.nn.dropout(h1, keep_prob=keep_prob, seed=seed) \n",
    "        \n",
    "        y = tf.matmul(h1, W2) + b2\n",
    "        return y \n",
    "    \n",
    "    logits = model(tf_train_dataset, training=True)\n",
    "    loss = tf.reduce_mean(\n",
    "        tf.nn.softmax_cross_entropy_with_logits(logits, tf_train_labels))\n",
    "    \n",
    "    regularizers = tf.nn.l2_loss(W1) + tf.nn.l2_loss(b1) + tf.nn.l2_loss(W2) + tf.nn.l2_loss(b2) \n",
    "    l2 = loss + l2_loss_param * regularizers \n",
    "    \n",
    "    optimizer = tf.train.GradientDescentOptimizer(learning_rate).minimize(l2) \n",
    "    \n",
    "    train_prediction = tf.nn.softmax(logits) \n",
    "    valid_prediction = tf.nn.softmax(model(tf_valid_dataset))\n",
    "    test_prediction  = tf.nn.softmax(model(tf_test_dataset)) \n",
    "    \n",
    "    print('Done.')"
   ]
  },
  {
   "cell_type": "code",
   "execution_count": 53,
   "metadata": {
    "collapsed": false
   },
   "outputs": [
    {
     "name": "stdout",
     "output_type": "stream",
     "text": [
      "Starting training...\n",
      "Minibatch loss at step 0: 631.504395\n",
      "Minibatch accuracy: 14.1%\n",
      "Validation accuracy: 29.8%\n",
      "Minibatch loss at step 500: 143.889221\n",
      "Minibatch accuracy: 74.2%\n",
      "Validation accuracy: 80.1%\n",
      "Minibatch loss at step 1000: 112.561066\n",
      "Minibatch accuracy: 75.0%\n",
      "Validation accuracy: 79.7%\n",
      "Minibatch loss at step 1500: 87.577209\n",
      "Minibatch accuracy: 68.8%\n",
      "Validation accuracy: 79.1%\n",
      "Minibatch loss at step 2000: 59.714672\n",
      "Minibatch accuracy: 79.7%\n",
      "Validation accuracy: 81.9%\n",
      "Minibatch loss at step 2500: 45.772717\n",
      "Minibatch accuracy: 73.4%\n",
      "Validation accuracy: 82.1%\n",
      "Minibatch loss at step 3000: 34.943115\n",
      "Minibatch accuracy: 85.2%\n",
      "Validation accuracy: 83.3%\n",
      "Test accuracy: 89.5%\n",
      "Done.\n"
     ]
    }
   ],
   "source": [
    "num_steps = 3001 \n",
    "\n",
    "with tf.Session(graph=graph) as session:\n",
    "    print('Starting training...')\n",
    "    tf.initialize_all_variables().run() \n",
    "    \n",
    "    for i in range(num_steps):\n",
    "        offset = (i * batch_size) % (train_labels.shape[0] - batch_size)\n",
    "        \n",
    "        batch_data  = train_dataset[offset:(offset + batch_size), :]\n",
    "        batch_labels = train_labels[offset:(offset + batch_size), :]\n",
    "        \n",
    "        feed_dict = {\n",
    "            tf_train_dataset: batch_data,\n",
    "            tf_train_labels : batch_labels \n",
    "        }\n",
    "        \n",
    "        _, l, predictions = session.run(\n",
    "            [optimizer, l2, train_prediction],\n",
    "            feed_dict=feed_dict\n",
    "        )\n",
    "        \n",
    "        if i % 500 == 0:\n",
    "            print(\"Minibatch loss at step %d: %f\" % (i, l))\n",
    "            print(\"Minibatch accuracy: %.1f%%\" % accuracy(predictions, batch_labels))\n",
    "            print(\"Validation accuracy: %.1f%%\" % accuracy(\n",
    "                valid_prediction.eval(), valid_labels))\n",
    "    \n",
    "    print(\"Test accuracy: %.1f%%\" % accuracy(test_prediction.eval(), test_labels))\n",
    "    print('Done.')"
   ]
  },
  {
   "cell_type": "markdown",
   "metadata": {
    "colab_type": "text",
    "id": "-b1hTz3VWZjw"
   },
   "source": [
    "---\n",
    "Problem 4\n",
    "---------\n",
    "\n",
    "Try to get the best performance you can using a multi-layer model! The best reported test accuracy using a deep network is [97.1%](http://yaroslavvb.blogspot.com/2011/09/notmnist-dataset.html?showComment=1391023266211#c8758720086795711595).\n",
    "\n",
    "One avenue you can explore is to add multiple layers.\n",
    "\n",
    "Another one is to use learning rate decay:\n",
    "\n",
    "    global_step = tf.Variable(0)  # count the number of steps taken.\n",
    "    learning_rate = tf.train.exponential_decay(0.5, global_step, ...)\n",
    "    optimizer = tf.train.GradientDescentOptimizer(learning_rate).minimize(loss, global_step=global_step)\n",
    " \n",
    " ---\n"
   ]
  },
  {
   "cell_type": "code",
   "execution_count": 6,
   "metadata": {
    "collapsed": false
   },
   "outputs": [
    {
     "name": "stdout",
     "output_type": "stream",
     "text": [
      "Constructing Graph...\n",
      "Done.\n"
     ]
    }
   ],
   "source": [
    "keep_prob = 0.7\n",
    "batch_size = 128 \n",
    "seed = None\n",
    "l2_loss_param = 5e-4 \n",
    "init_learning_rate = 0.001\n",
    "momentum = 0.001\n",
    "decay_step = 100 \n",
    "decay_rate = 0.96 \n",
    "\n",
    "h1_size = 1024\n",
    "h2_size = 1024\n",
    "# h3_size = num_labels * 2\n",
    "\n",
    "graph = tf.Graph() \n",
    "with graph.as_default(): \n",
    "    print('Constructing Graph...') \n",
    "    \n",
    "    tf_train_dataset = tf.placeholder(tf.float32, shape=(batch_size, image_size * image_size)) \n",
    "    tf_train_labels  = tf.placeholder(tf.float32, shape=(batch_size, num_labels)) \n",
    "    tf_valid_dataset = tf.constant(valid_dataset) \n",
    "    tf_test_dataset  = tf.constant(test_dataset) \n",
    "    \n",
    "    tf_keep_prob = tf.constant(keep_prob) \n",
    "    \n",
    "    \n",
    "    ############################\n",
    "    # NN Layers \n",
    "    W1 = tf.Variable(tf.truncated_normal([image_size * image_size, h1_size])) \n",
    "    b1 = tf.Variable(tf.zeros([h1_size])) \n",
    "    \n",
    "    W2 = tf.Variable(tf.truncated_normal([h1_size, h2_size])) \n",
    "    b2 = tf.Variable(tf.zeros([h2_size])) \n",
    "    \n",
    "    W3 = tf.Variable(tf.truncated_normal([h2_size, num_labels])) \n",
    "    b3 = tf.Variable(tf.zeros([num_labels])) \n",
    "    \n",
    "#     W4 = tf.Variable(tf.truncated_normal([h3_size, num_labels]))\n",
    "#     b4 = tf.Variable(tf.zeros([num_labels]))\n",
    "    \n",
    "    \n",
    "    ############################\n",
    "    # Construct model \n",
    "    def model(dataset, training=False):\n",
    "        h1 = tf.nn.relu(tf.matmul(dataset, W1) + b1)\n",
    "#         if training:\n",
    "#             h1 = tf.nn.dropout(h1, tf_keep_prob, seed=seed)\n",
    "            \n",
    "        h2 = tf.nn.relu(tf.matmul(h1, W2) + b2) \n",
    "#         if training:\n",
    "#             h2 = tf.nn.dropout(h2, tf_keep_prob, seed=seed) \n",
    "            \n",
    "#         h3 = tf.nn.relu(tf.matmul(h2, W3) + b3)\n",
    "#         if training:\n",
    "#             h3 = tf.nn.dropout(h3, tf_keep_prob, seed=seed)\n",
    "        \n",
    "#         h4 = tf.matmul(h3, W4) + b4\n",
    "#         return h4 \n",
    "        \n",
    "        h3 = tf.matmul(h2, W3) + b3\n",
    "        if training:\n",
    "            h3 = tf.nn.dropout(h3, tf_keep_prob, seed=seed)\n",
    "        return h3\n",
    "    \n",
    "    \n",
    "    logits = model(tf_train_dataset, training=True) \n",
    "    \n",
    "    regularizers = (tf.nn.l2_loss(W1) + tf.nn.l2_loss(b1) + \n",
    "                    tf.nn.l2_loss(W2) + tf.nn.l2_loss(b2) + \n",
    "                    tf.nn.l2_loss(W3) + tf.nn.l2_loss(b3)) \n",
    "    loss = tf.reduce_mean(\n",
    "        tf.nn.softmax_cross_entropy_with_logits(logits, tf_train_labels)) \n",
    "    l2 = loss + l2_loss_param * regularizers \n",
    "    \n",
    "    \n",
    "    # Create learning rate decay \n",
    "    global_step = tf.Variable(0) \n",
    "    learning_rate = tf.train.exponential_decay(\n",
    "        init_learning_rate, global_step, decay_step, decay_rate) \n",
    "    \n",
    "    optimizer = tf.train.GradientDescentOptimizer(learning_rate).minimize(l2, global_step=global_step) \n",
    "#     optimizer = tf.train.MomentumOptimizer(learning_rate, momentum).minimize(l2) \n",
    "    \n",
    "    train_prediction = tf.nn.softmax(logits) \n",
    "    valid_prediction = tf.nn.softmax(model(tf_valid_dataset)) \n",
    "    test_prediction  = tf.nn.softmax(model(tf_test_dataset)) \n",
    "    \n",
    "    print('Done.') \n",
    "\n",
    "\n"
   ]
  },
  {
   "cell_type": "code",
   "execution_count": null,
   "metadata": {
    "collapsed": false
   },
   "outputs": [
    {
     "name": "stdout",
     "output_type": "stream",
     "text": [
      "Training model...\n",
      "Minibatch loss at step 0: 8974.763672\n",
      "Minibatch accuracy: 5.5%\n",
      "Validation accuracy: 9.7%\n",
      "Minibatch loss at step 500: 1042.474487\n",
      "Minibatch accuracy: 64.8%\n",
      "Validation accuracy: 78.3%\n",
      "Minibatch loss at step 1000: 772.798828\n",
      "Minibatch accuracy: 66.4%\n",
      "Validation accuracy: 79.8%\n",
      "Minibatch loss at step 1500: 836.063477\n",
      "Minibatch accuracy: 64.1%\n",
      "Validation accuracy: 80.6%\n",
      "Minibatch loss at step 2000: 671.718994\n",
      "Minibatch accuracy: 66.4%\n",
      "Validation accuracy: 81.3%"
     ]
    }
   ],
   "source": [
    "\n",
    "num_steps = 3001 \n",
    "with tf.Session(graph=graph) as session:\n",
    "    print('Training model...') \n",
    "    tf.initialize_all_variables().run() \n",
    "    \n",
    "    for i in range(num_steps):\n",
    "        offset = (i * batch_size) % (train_labels.shape[0] - batch_size)\n",
    "        \n",
    "        batch_data  = train_dataset[offset:(offset + batch_size), :]\n",
    "        batch_labels = train_labels[offset:(offset + batch_size), :]\n",
    "        \n",
    "        feed_dict = {\n",
    "            tf_train_dataset: batch_data,\n",
    "            tf_train_labels : batch_labels \n",
    "        }\n",
    "        \n",
    "        _, l, predictions = session.run(\n",
    "            [optimizer, l2, train_prediction],\n",
    "            feed_dict=feed_dict\n",
    "        )\n",
    "        \n",
    "        if i % 500 == 0:\n",
    "            print(\"Minibatch loss at step %d: %f\" % (i, l))\n",
    "            print(\"Minibatch accuracy: %.1f%%\" % accuracy(predictions, batch_labels))\n",
    "            print(\"Validation accuracy: %.1f%%\" % accuracy(\n",
    "                valid_prediction.eval(), valid_labels))\n",
    "    \n",
    "    print(\"Test accuracy: %.1f%%\" % accuracy(test_prediction.eval(), test_labels))\n",
    "    print('Done.')"
   ]
  },
  {
   "cell_type": "code",
   "execution_count": 176,
   "metadata": {
    "collapsed": false
   },
   "outputs": [
    {
     "name": "stdout",
     "output_type": "stream",
     "text": [
      "Applies exponential decay to the learning rate.\n",
      "\n",
      "  When training a model, it is often recommended to lower the learning rate as\n",
      "  the training progresses.  This function applies an exponential decay function\n",
      "  to a provided initial learning rate.  It requires a `global_step` value to\n",
      "  compute the decayed learning rate.  You can just pass a TensorFlow variable\n",
      "  that you increment at each training step.\n",
      "\n",
      "  The function returns the decayed learning rate.  It is computed as:\n",
      "\n",
      "  ```python\n",
      "  decayed_learning_rate = learning_rate *\n",
      "                          decay_rate ^ (global_step / decay_steps)\n",
      "  ```\n",
      "\n",
      "  If the argument `staircase` is `True`, then `global_step /decay_steps` is an\n",
      "  integer division and the decayed learning rate follows a staircase function.\n",
      "\n",
      "  Example: decay every 100000 steps with a base of 0.96:\n",
      "\n",
      "  ```python\n",
      "  ...\n",
      "  global_step = tf.Variable(0, trainable=False)\n",
      "  starter_learning_rate = 0.1\n",
      "  learning_rate = tf.train.exponential_decay(starter_learning_rate, global_step,\n",
      "                                             100000, 0.96, staircase=True)\n",
      "  optimizer = tf.GradientDescentOptimizer(learning_rate)\n",
      "  # Passing global_step to minimize() will increment it at each step.\n",
      "  optimizer.minimize(...my loss..., global_step=global_step)\n",
      "  ```\n",
      "\n",
      "  Args:\n",
      "    learning_rate: A scalar `float32` or `float64` `Tensor` or a\n",
      "      Python number.  The initial learning rate.\n",
      "    global_step: A scalar `int32` or `int64` `Tensor` or a Python number.\n",
      "      Global step to use for the decay computation.  Must not be negative.\n",
      "    decay_steps: A scalar `int32` or `int64` `Tensor` or a Python number.\n",
      "      Must be positive.  See the decay computation above.\n",
      "    decay_rate: A scalar `float32` or `float64` `Tensor` or a\n",
      "      Python number.  The decay rate.\n",
      "    staircase: Boolean.  It `True` decay the learning rate at discrete intervals.\n",
      "    name: String.  Optional name of the operation.  Defaults to 'ExponentialDecay'\n",
      "\n",
      "  Returns:\n",
      "    A scalar `Tensor` of the same type as `learning_rate`.  The decayed\n",
      "    learning rate.\n",
      "  \n"
     ]
    }
   ],
   "source": [
    "print(tf.train.exponential_decay.__doc__)"
   ]
  }
 ],
 "metadata": {
  "colab": {
   "default_view": {},
   "name": "3_regularization.ipynb",
   "provenance": [],
   "version": "0.3.2",
   "views": {}
  },
  "kernelspec": {
   "display_name": "Python 3",
   "language": "python",
   "name": "python3"
  },
  "language_info": {
   "codemirror_mode": {
    "name": "ipython",
    "version": 3
   },
   "file_extension": ".py",
   "mimetype": "text/x-python",
   "name": "python",
   "nbconvert_exporter": "python",
   "pygments_lexer": "ipython3",
   "version": "3.4.3"
  }
 },
 "nbformat": 4,
 "nbformat_minor": 0
}
