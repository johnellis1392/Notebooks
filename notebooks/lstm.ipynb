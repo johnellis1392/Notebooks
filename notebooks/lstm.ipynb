{
 "cells": [
  {
   "cell_type": "code",
   "execution_count": 1,
   "metadata": {
    "collapsed": true
   },
   "outputs": [],
   "source": [
    "%matplotlib inline\n",
    "from __future__ import print_function\n",
    "import collections\n",
    "import math\n",
    "import numpy as np\n",
    "import os\n",
    "import random\n",
    "import tensorflow as tf\n",
    "import zipfile\n",
    "from matplotlib import pylab\n",
    "from six.moves import range\n",
    "from six.moves.urllib.request import urlretrieve\n",
    "from sklearn.manifold import TSNE"
   ]
  },
  {
   "cell_type": "code",
   "execution_count": 2,
   "metadata": {
    "collapsed": false,
    "scrolled": false
   },
   "outputs": [
    {
     "name": "stdout",
     "output_type": "stream",
     "text": [
      "['anarchism', 'originated', 'as', 'a', 'term', 'of', 'abuse', 'first'] against\n"
     ]
    }
   ],
   "source": [
    "def read_data(filename):\n",
    "    with zipfile.ZipFile(filename) as f:\n",
    "        data = tf.compat.as_str(f.read(f.namelist()[0])).split()\n",
    "    return data\n",
    "\n",
    "filename = 'text8.zip'\n",
    "data = read_data(filename)\n",
    "print(data[:8], data[9])"
   ]
  },
  {
   "cell_type": "code",
   "execution_count": 3,
   "metadata": {
    "collapsed": false
   },
   "outputs": [],
   "source": [
    "def generate_batch(data, window_size, batch_size):\n",
    "    for i in range((len(data) - window_size - 1) // batch_size):\n",
    "        result = []\n",
    "        labels = []\n",
    "        for j in range(batch_size):\n",
    "            offset = i * batch_size + j\n",
    "            result.append(data[offset: offset + window_size])\n",
    "            labels.append(data[offset + window_size + 1])\n",
    "        yield result, labels\n",
    "    return None"
   ]
  },
  {
   "cell_type": "code",
   "execution_count": 4,
   "metadata": {
    "collapsed": false
   },
   "outputs": [
    {
     "name": "stdout",
     "output_type": "stream",
     "text": [
      "17\n",
      "[0, 1, 2, 3, 4, 5, 6, 7, 8, 9]\n",
      "Done.\n"
     ]
    }
   ],
   "source": [
    "print((len(data) - 5 - 1) % 128)\n",
    "print(list(range(10)))\n",
    "for batch, label in generate_batch(data, 5, 128):\n",
    "    pass\n",
    "print('Done.')"
   ]
  },
  {
   "cell_type": "code",
   "execution_count": null,
   "metadata": {
    "collapsed": true
   },
   "outputs": [],
   "source": [
    "batch_size = 128\n",
    "embedding_size = 50000\n",
    "input_size = embedding_size\n",
    "num_nodes = 3000\n",
    "\n",
    "window_size = 5\n",
    "\n",
    "graph = tf.Graph()\n",
    "with graph.as_default():\n",
    "    print('Initializing Graph...')\n",
    "    \n",
    "    \n",
    "    wi_input  = tf.Variable(tf.truncated_normal([input_size, num_nodes], -0.1, 0.1))\n",
    "    wo_input  = tf.Variable(tf.truncated_normal([num_nodes, num_nodes], -0.1, 0.1))\n",
    "    b_input   = tf.Variable(tf.zeros([num_nodes]))\n",
    "    \n",
    "    wi_forget = tf.Variable(tf.truncated_normal([input_size, num_nodes], -0.1, 0.1))\n",
    "    wo_forget = tf.Variable(tf.truncated_normal([num_nodes, num_nodes], -0.1, 0.1))\n",
    "    b_forget  = tf.Variable(tf.zeros([num_nodes]))\n",
    "    \n",
    "    wi_output = tf.Variable(tf.truncated_normal([input_size, num_nodes], -0.1, 0.1))\n",
    "    wo_output = tf.Variable(tf.truncated_normal([num_nodes, num_nodes], -0.1, 0.1))\n",
    "    b_output  = tf.Variable(tf.zeros([num_nodes]))\n",
    "    \n",
    "    \n",
    "    saved_output = tf.Variable(tf.zeros([batch_size, num_nodes]), trainable=False)\n",
    "    saved_state  = tf.Variable(tf.zeros([batch_size, num_nodes]), trainable=False)\n",
    "    \n",
    "    w = tf.Variable(tf.truncated_normal([num_nodes, input_size], -0.1, 0.1))\n",
    "    b = tf.Variable(tf.truncated_normal([input_size], -0.1, 0.1))\n",
    "    \n",
    "    \n",
    "    def lstm(input_data, previous_outut, state):\n",
    "        input_gate  = tf.nn.sigmoid(tf.matmul(input_data, wi_input)  + tf.matmul(previous_output, wo_input)  + b_input)\n",
    "        forget_gate = tf.nn.sigmoid(tf.matmul(input_data, wi_forget) + tf.matmul(previous_output, wo_forget) + b_forget)\n",
    "        output_gate = tf.nn.sigmoid(tf.matmul(input_data, wi_output) + tf.mtamul(previous_output, wo_output) + b_output)\n",
    "        output = \n",
    "        new_state = \n",
    "        return output, new_state\n",
    "    \n",
    "    \n",
    "    print('Done.')"
   ]
  },
  {
   "cell_type": "code",
   "execution_count": null,
   "metadata": {
    "collapsed": true
   },
   "outputs": [],
   "source": [
    "def summarize():\n",
    "    print('=' * 80)"
   ]
  },
  {
   "cell_type": "code",
   "execution_count": null,
   "metadata": {
    "collapsed": true
   },
   "outputs": [],
   "source": [
    "window_size = 5\n",
    "batch_size = 128\n",
    "\n",
    "with tf.Session(graph=graph) as session:\n",
    "    print('Starting training...')\n",
    "    tf.initialize_all_variables().run()\n",
    "    \n",
    "    for batch, labels in generate_batch(data, window_size, batch_size):\n",
    "        pass\n",
    "    \n",
    "    print('Done.')"
   ]
  },
  {
   "cell_type": "code",
   "execution_count": 2,
   "metadata": {
    "collapsed": true
   },
   "outputs": [],
   "source": [
    "from functools import reduce\n",
    "\n",
    "def mapping(s):\n",
    "    return map(lambda i: ord(i) - 97, s.lower())\n",
    "\n",
    "def encode_string(s):\n",
    "    return reduce(lambda r, c: r + c, map(lambda x: x[1] * 26 ** x[0], zip(range(len(s)), mapping(s))))\n"
   ]
  },
  {
   "cell_type": "code",
   "execution_count": 3,
   "metadata": {
    "collapsed": false
   },
   "outputs": [
    {
     "name": "stdout",
     "output_type": "stream",
     "text": [
      "6598547\n"
     ]
    }
   ],
   "source": [
    "print(encode_string('hello'))"
   ]
  }
 ],
 "metadata": {
  "kernelspec": {
   "display_name": "Python 3",
   "language": "python",
   "name": "python3"
  },
  "language_info": {
   "codemirror_mode": {
    "name": "ipython",
    "version": 3
   },
   "file_extension": ".py",
   "mimetype": "text/x-python",
   "name": "python",
   "nbconvert_exporter": "python",
   "pygments_lexer": "ipython3",
   "version": "3.4.3"
  }
 },
 "nbformat": 4,
 "nbformat_minor": 0
}
