{
 "cells": [
  {
   "cell_type": "code",
   "execution_count": 27,
   "metadata": {
    "collapsed": false
   },
   "outputs": [
    {
     "name": "stdout",
     "output_type": "stream",
     "text": [
      "[ 0.8360188   0.11314284  0.05083836]\n",
      "[ 0.38842275  0.31801365  0.2935636 ]\n"
     ]
    }
   ],
   "source": [
    "import tensorflow as tf \n",
    "import numpy as np \n",
    "\n",
    "scores = [3.0, 1.0, 0.2]\n",
    "\n",
    "def softmax(x):\n",
    "#     return np.array(list(map(lambda i: np.exp(i) / sum(np.exp(x)), x)))\n",
    "    return np.exp(x) / np.sum(np.exp(x), axis=0)\n",
    "\n",
    "print(softmax(scores).T)\n",
    "print(softmax(np.array(scores) * 10).T) # stratifies inputs so larger inputs are weighted more\n",
    "print(softmax(np.array(scores) / 10).T) # brings distribution more toward uniform distribution"
   ]
  },
  {
   "cell_type": "code",
   "execution_count": 37,
   "metadata": {
    "collapsed": false
   },
   "outputs": [
    {
     "name": "stdout",
     "output_type": "stream",
     "text": [
      "1000000000.0\n",
      "0.95367431640625\n"
     ]
    }
   ],
   "source": [
    "s = 1e9\n",
    "print(s)\n",
    "for i in range(int(1e6)):\n",
    "    s += 1e-6\n",
    "s -= 1e9\n",
    "print(s)"
   ]
  },
  {
   "cell_type": "code",
   "execution_count": 7,
   "metadata": {
    "collapsed": false
   },
   "outputs": [],
   "source": [
    "# Example of using pandas to import CSV Data \n",
    "import pandas as pd \n",
    "import os as os \n",
    "\n",
    "# Imports data; returns a pandas.core.frame.DataFrame object \n",
    "data = pd.read_csv('fer2013/fer2013.csv')\n",
    "\n",
    "def train(emotion, pixels):\n",
    "    pass \n",
    "\n",
    "for emotion, pixel_str in zip(data['emotion'], data['pixels']):\n",
    "    pixels = [int(i) for i in pixel_str.split(' ')]\n",
    "    train(emotion, pixels) \n",
    "    "
   ]
  },
  {
   "cell_type": "code",
   "execution_count": 7,
   "metadata": {
    "collapsed": false
   },
   "outputs": [
    {
     "name": "stdout",
     "output_type": "stream",
     "text": [
      "Mean: 0.240000\n",
      "STD: 0.442418\n",
      "a.reshape(shape, order='C')\n",
      "\n",
      "    Returns an array containing the same data with a new shape.\n",
      "\n",
      "    Refer to `numpy.reshape` for full documentation.\n",
      "\n",
      "    See Also\n",
      "    --------\n",
      "    numpy.reshape : equivalent function\n"
     ]
    }
   ],
   "source": [
    "from sklearn import linear_model, datasets\n",
    "import numpy as np \n",
    "\n",
    "iris = datasets.load_iris() \n",
    "\n",
    "dataset = iris.data[:, :2]\n",
    "target = iris.target \n",
    "model = linear_model.LogisticRegression() \n",
    "\n",
    "model.fit(\n",
    "    dataset,\n",
    "    target\n",
    ")\n",
    "\n",
    "result = model.predict(dataset)\n",
    "# print(result.shape, target.shape)\n",
    "\n",
    "error = np.sqrt(np.square(target - result))\n",
    "print(\"Mean: %f\" % np.mean(error))\n",
    "print(\"STD: %f\" % np.std(error))\n"
   ]
  }
 ],
 "metadata": {
  "kernelspec": {
   "display_name": "Python 3",
   "language": "python",
   "name": "python3"
  },
  "language_info": {
   "codemirror_mode": {
    "name": "ipython",
    "version": 3
   },
   "file_extension": ".py",
   "mimetype": "text/x-python",
   "name": "python",
   "nbconvert_exporter": "python",
   "pygments_lexer": "ipython3",
   "version": "3.4.3"
  }
 },
 "nbformat": 4,
 "nbformat_minor": 0
}
